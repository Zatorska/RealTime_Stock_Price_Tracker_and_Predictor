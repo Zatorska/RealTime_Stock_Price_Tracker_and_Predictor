{
 "cells": [
  {
   "cell_type": "markdown",
   "metadata": {},
   "source": [
    "Import necessary libraries"
   ]
  },
  {
   "cell_type": "code",
   "execution_count": null,
   "metadata": {},
   "outputs": [],
   "source": [
    "import requests\n",
    "from bs4 import BeautifulSoup\n",
    "import pandas as pd\n",
    "from datetime import datetime\n",
    "import numpy as np\n",
    "import math\n",
    "from statsmodels.tsa.ar_model import AutoReg\n",
    "import matplotlib.pyplot as plt\n",
    "from sklearn.metrics import mean_absolute_error, mean_squared_error\n",
    "from IPython.display import clear_output\n",
    "import time"
   ]
  },
  {
   "cell_type": "markdown",
   "metadata": {},
   "source": [
    "The `DataFetcher` class is designed to handle the retrieval of web data. It initializes with a URL to target and sets a user-agent header to mimic a web browser request, which helps in avoiding potential blocking by the website's server. \n",
    "\n",
    "The `fetch` method performs the actual request to the specified URL using the `requests.get` method, passing the predefined headers to simulate a browser visit. This method then returns the response object for further processing. \n",
    "\n",
    "This class simplifies the process of fetching web pages for data scraping or web automation tasks."
   ]
  },
  {
   "cell_type": "code",
   "execution_count": null,
   "metadata": {},
   "outputs": [],
   "source": [
    "class DataFetcher:\n",
    "    def __init__(self, url):\n",
    "        self.url = url\n",
    "        self.headers = {\n",
    "            \"User-Agent\": 'Mozilla/5.0 (Windows NT 6.1; Win64; x64) AppleWebKit/537.36 (KHTML, like Gecko) Chrome/102.0.5005.63 Safari/537.36'\n",
    "        }\n",
    "\n",
    "    def fetch(self):\n",
    "        r = requests.get(self.url, headers=self.headers)\n",
    "        return r"
   ]
  },
  {
   "cell_type": "markdown",
   "metadata": {},
   "source": [
    "The `PriceParser` class is designed for extracting financial data from HTML content. \n",
    "\n",
    "It contains a static method `parse_price` that takes HTML content as input, uses BeautifulSoup to parse it, and then finds the text of a specific element identified by a unique class attribute. This method is particularly tailored to extract the price of a stock or a financial instrument from web pages, convert it to a float (after removing any commas), and pair it with the current timestamp. The return value is a list containing both the timestamp and the price, making it a convenient tool for financial data scraping and analysis tasks."
   ]
  },
  {
   "cell_type": "code",
   "execution_count": null,
   "metadata": {},
   "outputs": [],
   "source": [
    "class PriceParser:\n",
    "    @staticmethod\n",
    "    def parse_price(html_content):\n",
    "        soup = BeautifulSoup(html_content, \"html.parser\")\n",
    "        price = soup.find_all(class_=[\"Fw(b) Fz(36px) Mb(-4px) D(ib)\"])[0].text\n",
    "        price = float(price.replace(\",\", \"\"))\n",
    "        now = datetime.now().strftime('%Y-%m-%d %H:%M:%S')\n",
    "        return [now, price]"
   ]
  },
  {
   "cell_type": "markdown",
   "metadata": {},
   "source": [
    "The `Metrics` class provides static methods for calculating key performance indicators commonly used in evaluating the accuracy of predictive models. These methods include:\n",
    "\n",
    "- **`MAPE` (Mean Absolute Percentage Error)**: This method calculates the average of the absolute percentage errors between the predicted values and the actual values, offering a perspective on prediction accuracy in terms of percentage. It is especially useful for comparing the performance of models across different scales.\n",
    "\n",
    "- **`ME` (Mean Error)**: This method computes the mean difference between predicted values and actual values, providing a measure of the model's bias. Positive or negative values indicate the direction of the bias.\n",
    "\n",
    "- **`RMSE` (Root Mean Squared Error)**: This method calculates the square root of the mean squared error (MSE), giving an idea of the average magnitude of the errors. The RMSE is useful for comparing models and understanding the error in the same units as the target variable.\n",
    "\n",
    "Each of these methods takes as input the actual values (`y`) and the predicted values (`y_pred`), except for RMSE, which requires the mean squared error as input, and returns a rounded figure that quantifies the model's predictive performance. These metrics are essential tools for data scientists to assess and refine their predictive models."
   ]
  },
  {
   "cell_type": "code",
   "execution_count": 2,
   "metadata": {},
   "outputs": [],
   "source": [
    "class Metrics:\n",
    "    @staticmethod\n",
    "    def MAPE(y, y_pred):\n",
    "        mape = np.mean(np.abs((y - y_pred) / y)) * 100\n",
    "        return round(mape, 5)\n",
    "\n",
    "    @staticmethod\n",
    "    def ME(y, y_pred):\n",
    "        me = np.mean(y_pred - y)\n",
    "        return round(me, 5)\n",
    "\n",
    "    @staticmethod\n",
    "    def RMSE(MSE):\n",
    "        rmse = math.sqrt(MSE)\n",
    "        return round(rmse, 5)"
   ]
  },
  {
   "cell_type": "markdown",
   "metadata": {},
   "source": [
    "The `AutoRegressionModel` class is designed to encapsulate the entire process of using autoregressive models for time series forecasting. It initializes with a pandas DataFrame, which should contain at least two columns: one for time and another for the values to be forecasted.\n",
    "\n",
    "The `split_fit_predict_plot_evaluate` method carries out several key steps:\n",
    "\n",
    "1. **Preparation**: It converts the time column to datetime format and prepares the dataset for modeling.\n",
    "2. **Splitting**: It divides the dataset into training and testing sets, typically using 80% of the data for training and the remaining 20% for testing.\n",
    "3. **Modeling**: It initializes an autoregression model from the `AutoReg` class, using the training data. The model is then fitted to the data.\n",
    "4. **Prediction**: It uses the fitted model to make predictions on the test set.\n",
    "5. **Visualization**: It plots both the actual values and the predicted values over time to visually assess the model's performance.\n",
    "6. **Evaluation**: It evaluates the model's predictions using several statistical metrics, including MAPE (Mean Absolute Percentage Error), ME (Mean Error), MAE (Mean Absolute Error), MSE (Mean Squared Error), and RMSE (Root Mean Squared Error), which are calculated using the actual values and the predicted values.\n",
    "\n",
    "This class abstracts away the complexity of model training, prediction, and evaluation, providing a streamlined way to work with autoregressive models in time series analysis."
   ]
  },
  {
   "cell_type": "code",
   "execution_count": 12,
   "metadata": {},
   "outputs": [],
   "source": [
    "class AutoRegressionModel:\n",
    "    def __init__(self, dataframe):\n",
    "        self.dataframe = dataframe\n",
    "\n",
    "    def split_fit_predict_plot_evaluate(self):\n",
    "        self.dataframe['Time'] = pd.to_datetime(self.dataframe['Time'])\n",
    "        dataset = self.dataframe['Value'].values\n",
    "\n",
    "        train_size = int(len(dataset) * 0.8)\n",
    "        X_train, X_test = dataset[0:train_size], dataset[train_size:]\n",
    "\n",
    "        model = AutoReg(X_train, lags=1)\n",
    "        \n",
    "        fit_model = model.fit()\n",
    "        \n",
    "        yhat = fit_model.predict(train_size, len(dataset)-1) \n",
    "\n",
    "        plt.plot(self.dataframe['Time'].values[train_size:], yhat, linewidth=2, label='y predicted')\n",
    "        plt.plot(self.dataframe['Time'], self.dataframe['Value'], linewidth=2, label='original data')\n",
    "        plt.xticks(rotation=90)\n",
    "        plt.legend()\n",
    "\n",
    "        MAPE_metric = Metrics.MAPE(X_test, yhat)\n",
    "        ME_metric = Metrics.ME(X_test, yhat)\n",
    "        MAE_metric = round(mean_absolute_error(X_test, yhat), 5)\n",
    "        MSE_metric = round(mean_squared_error(X_test, yhat), 5)\n",
    "        RMSE_metric = Metrics.RMSE(MSE_metric)\n",
    "\n",
    "        metrics_text = f\"\"\"\n",
    "        Model evaluation metrics:\n",
    "\n",
    "        MAPE = {MAPE_metric}\n",
    "        ME = {ME_metric}\n",
    "        MAE = {MAE_metric}\n",
    "        MSE = {MSE_metric}\n",
    "        RMSE = {RMSE_metric}\n",
    "        \"\"\"\n",
    "\n",
    "        print(metrics_text)\n"
   ]
  },
  {
   "cell_type": "markdown",
   "metadata": {},
   "source": [
    "The `MainLoop` class is designed to continuously fetch stock price data from a specified URL, parse this data to extract the current stock price and timestamp, and then store these values in a DataFrame. Upon collecting enough data points, the class initiates an autoregression model to predict future prices based on past data. This model's predictions are evaluated and plotted against actual data for visual comparison. The loop runs indefinitely, fetching data every 60 seconds, making it suitable for real-time data analysis and monitoring stock price trends."
   ]
  },
  {
   "cell_type": "code",
   "execution_count": 10,
   "metadata": {},
   "outputs": [],
   "source": [
    "class MainLoop:\n",
    "    def __init__(self, url):\n",
    "        self.data_fetcher = DataFetcher(url)\n",
    "        self.dataframe = pd.DataFrame(columns=['Time', 'Value'])\n",
    "\n",
    "    def run(self):\n",
    "        while True:\n",
    "            try:\n",
    "                r = self.data_fetcher.fetch()\n",
    "                parsed_price = PriceParser.parse_price(r.text)\n",
    "                self.dataframe.loc[len(self.dataframe)] = parsed_price\n",
    "            except Exception as e:\n",
    "                print('A problem has occurred: ', e)\n",
    "            clear_output(wait=True)\n",
    "            print(self.dataframe)\n",
    "            if len(self.dataframe) > 10:\n",
    "                model = AutoRegressionModel(self.dataframe)\n",
    "                model.split_fit_predict_plot_evaluate()\n",
    "                plt.pause(0.05)\n",
    "            plt.show()\n",
    "            time.sleep(60)"
   ]
  },
  {
   "cell_type": "markdown",
   "metadata": {},
   "source": [
    "Example usage:"
   ]
  },
  {
   "cell_type": "code",
   "execution_count": null,
   "metadata": {},
   "outputs": [],
   "source": [
    "url = 'https://finance.yahoo.com/quote/GOOG?p=GOOG'\n",
    "main_loop = MainLoop(url)\n",
    "main_loop.run()"
   ]
  }
 ],
 "metadata": {
  "kernelspec": {
   "display_name": "Python 3",
   "language": "python",
   "name": "python3"
  },
  "language_info": {
   "codemirror_mode": {
    "name": "ipython",
    "version": 3
   },
   "file_extension": ".py",
   "mimetype": "text/x-python",
   "name": "python",
   "nbconvert_exporter": "python",
   "pygments_lexer": "ipython3",
   "version": "3.11.4"
  }
 },
 "nbformat": 4,
 "nbformat_minor": 2
}
